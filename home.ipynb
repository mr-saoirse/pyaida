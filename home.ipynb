{
 "cells": [
  {
   "cell_type": "code",
   "execution_count": 1,
   "id": "5a52cae8",
   "metadata": {},
   "outputs": [],
   "source": [
    "import pyaida\n",
    "from IPython.display import Markdown\n",
    "from pyaida import Runner, AbstractModel\n",
    "from pyaida import pg\n",
    "from pyaida.core.parsing.email import HtmlEmail\n",
    "from pyaida.core.data.AbstractModel import MetaModel\n",
    "repo = pg.repository(MetaModel)\n",
    "#repo.register()\n",
    "#Markdown(HtmlEmail._get_system_prompt_markdown())"
   ]
  },
  {
   "cell_type": "code",
   "execution_count": 3,
   "id": "ab796293",
   "metadata": {},
   "outputs": [
    {
     "data": {
      "text/plain": [
       "{'id': FieldInfo(annotation=str, required=True),\n",
       " 'description': FieldInfo(annotation=str, required=True, description='The summary or abstract of the resource', json_schema_extra={'embedding_provider': 'openai.text-embedding-ada-002'}),\n",
       " 'content': FieldInfo(annotation=Any, required=False, default=None),\n",
       " 'sender': FieldInfo(annotation=str, required=True),\n",
       " 'receiver': FieldInfo(annotation=str, required=True),\n",
       " 'subject': FieldInfo(annotation=str, required=True),\n",
       " 'date': FieldInfo(annotation=str, required=True)}"
      ]
     },
     "execution_count": 3,
     "metadata": {},
     "output_type": "execute_result"
    }
   ],
   "source": [
    "\"\"\"test case ensure we can also transfer - this is important because its our schema extension\"\"\"\n",
    "meta =HtmlEmail.to_meta_model()\n",
    "M = AbstractModel.create_from_meta_model(meta)\n",
    "#meta.model_dump()\n",
    "M.model_fields\n",
    "\n"
   ]
  },
  {
   "cell_type": "code",
   "execution_count": 28,
   "id": "6e62158b",
   "metadata": {},
   "outputs": [
    {
     "data": {
      "text/plain": [
       "'the meta model is a persisted version of a concrete model\\nthis can be saved and reloaded from the database and is used for agents'"
      ]
     },
     "execution_count": 28,
     "metadata": {},
     "output_type": "execute_result"
    }
   ],
   "source": [
    "from pydantic import BaseModel, create_model, Field\n",
    "from typing import Any, Dict, Type, Union\n",
    "\n",
    "def resolve_ref(schema: Dict[str, Any], ref: str) -> Dict[str, Any]:\n",
    "    \"\"\"Resolve $ref to its definition in the schema.\"\"\"\n",
    "    ref_path = ref.lstrip(\"#/\").split(\"/\")\n",
    "    resolved = schema\n",
    "    for part in ref_path:\n",
    "        resolved = resolved.get(part, {})\n",
    "    return resolved\n",
    "\n",
    "def build_pydantic_model(schema: Dict[str, Any], \n",
    "                         definitions: Dict[str, Any] = None, \n",
    "                         model_functions:dict=None, \n",
    "                         model_namespace:str=None) -> Type[BaseModel]:\n",
    "    \"\"\"\n",
    "    Recursively generate Pydantic models from a JSON Schema.\n",
    "    \"\"\"\n",
    "    if definitions is None:\n",
    "        definitions = schema.get(\"definitions\", {})\n",
    "\n",
    "    name = schema['title']\n",
    "    properties = schema.get(\"properties\", {})\n",
    "    required_fields = set(schema.get(\"required\", []))\n",
    "    model_fields = {}\n",
    "\n",
    "    # Iterate over properties and resolve fields\n",
    "    for field_name, field_info in properties.items():\n",
    "        if \"$ref\" in field_info:\n",
    "            # Resolve the $ref and recursively build a model\n",
    "            ref_schema = resolve_ref({\"definitions\": definitions}, field_info[\"$ref\"])\n",
    "            sub_model = build_pydantic_model(ref_schema, definitions, name=field_name.capitalize())\n",
    "            field_type = sub_model\n",
    "        elif field_info.get(\"type\") == \"object\":\n",
    "            # Handle nested object\n",
    "            field_type = build_pydantic_model(field_info, definitions, name=field_name.capitalize())\n",
    "        elif field_info.get(\"type\") == \"array\":\n",
    "            # Handle arrays (assumes single-type arrays)\n",
    "            items = field_info.get(\"items\", {})\n",
    "            if \"$ref\" in items:\n",
    "                ref_schema = resolve_ref({\"definitions\": definitions}, items[\"$ref\"])\n",
    "                field_type = list[build_pydantic_model(ref_schema, definitions, name=field_name.capitalize())]\n",
    "            else:\n",
    "                field_type = list\n",
    "        else:\n",
    "            # Map simple types\n",
    "            field_type = {\n",
    "                \"string\": str,\n",
    "                \"integer\": int,\n",
    "                \"boolean\": bool,\n",
    "                \"number\": float,\n",
    "                \"array\": list,\n",
    "                \"object\": dict,\n",
    "            }.get(field_info.get(\"type\"), Any)\n",
    "\n",
    "        # Add field with description\n",
    "        description = field_info.get(\"description\", None)\n",
    "        if field_name in required_fields:\n",
    "            model_fields[field_name] = (field_type, Field(..., description=description))\n",
    "        else:\n",
    "            model_fields[field_name] = (field_type, Field(None, description=description))\n",
    "\n",
    "    # Create the model dynamically\n",
    "    model =  create_model(name, **model_fields)\n",
    "    \n",
    "    model.__doc__ = schema.get('description')\n",
    "    class Config:\n",
    "        namespace: str = model_namespace\n",
    "        functions: dict= model_functions\n",
    "            \n",
    "    model.Config = Config\n",
    "    return model\n",
    "\n",
    "# Example JSON schema with complex types\n",
    "json_schema = MetaModel.model_json_schema()\n",
    "\n",
    "# Build the Pydantic model\n",
    "Model = build_pydantic_model(json_schema)\n",
    "\n",
    "Model.__doc__\n"
   ]
  },
  {
   "cell_type": "code",
   "execution_count": 27,
   "id": "35cae0f9",
   "metadata": {},
   "outputs": [],
   "source": [
    "Model.Config.namespace"
   ]
  },
  {
   "cell_type": "code",
   "execution_count": 18,
   "id": "a52fa416",
   "metadata": {},
   "outputs": [
    {
     "data": {
      "text/plain": [
       "{'description': 'You are an email and newsletter agent. If asked about emails or newsletters you can run a search to answer the users question.\\n    \\n    ',\n",
       " 'properties': {'id': {'format': 'uuid', 'title': 'Id', 'type': 'string'},\n",
       "  'description': {'description': 'The summary or abstract of the resource',\n",
       "   'embedding_provider': 'openai.text-embedding-ada-002',\n",
       "   'title': 'Description',\n",
       "   'type': 'string'},\n",
       "  'content': {'anyOf': [{'type': 'string'}, {'type': 'null'}],\n",
       "   'default': None,\n",
       "   'title': 'Content'},\n",
       "  'sender': {'title': 'Sender', 'type': 'string'},\n",
       "  'receiver': {'title': 'Receiver', 'type': 'string'},\n",
       "  'subject': {'title': 'Subject', 'type': 'string'},\n",
       "  'date': {'title': 'Date', 'type': 'string'}},\n",
       " 'required': ['id', 'description', 'sender', 'receiver', 'subject', 'date'],\n",
       " 'title': 'HtmlEmail',\n",
       " 'type': 'object'}"
      ]
     },
     "execution_count": 18,
     "metadata": {},
     "output_type": "execute_result"
    }
   ],
   "source": [
    "HtmlEmail.model_json_schema()"
   ]
  },
  {
   "cell_type": "code",
   "execution_count": 2,
   "id": "9b8eeef3",
   "metadata": {},
   "outputs": [
    {
     "data": {
      "text/markdown": [
       "\n",
       "# Model details\n",
       "name: MetaModel\n",
       "\n",
       "## System prompt\n",
       "The Meta Model is the abstract representation of models or agents as can be saved or shared declaratively\n",
       "    \n",
       "## Structured Response Objects (if required)\n",
       "### 1. _MetaField\n",
       "\n",
       "#### Required fields - name (str):  \n",
       " - type (str):  \n",
       " - description (str):  \n",
       " - embedding_provider (str):  \n",
       " - default (str):  \n",
       "\n",
       "\n",
       "            \n",
       "### 2. MetaModel\n",
       "\n",
       "#### Required fields - id (str):  \n",
       " - description (str): System prompt or other overview description \n",
       " - name (str):  \n",
       " - namespace (str): An optional namespace \n",
       " - functions (dict): A mapping of functions to use. simply map the function id to a description in a flat dict \n",
       " - key_field (str): The primary key field - convention is to simply use id \n",
       " - fields (_MetaField): The fields and their properties \n",
       "\n",
       "\n",
       "            "
      ],
      "text/plain": [
       "<IPython.core.display.Markdown object>"
      ]
     },
     "execution_count": 2,
     "metadata": {},
     "output_type": "execute_result"
    }
   ],
   "source": [
    "Markdown(MetaModel._get_system_prompt_markdown())"
   ]
  },
  {
   "cell_type": "code",
   "execution_count": 3,
   "id": "e2cc6964",
   "metadata": {},
   "outputs": [],
   "source": [
    "# import typing\n",
    "# from pyaida.core.data.sql.helper import SqlHelper\n",
    "# from pyaida.core.utils import inspection\n",
    "# for k,v in typing.get_type_hints(MetaModel).items():\n",
    "#     #v = inspection.get_innermost_args(v)\n",
    "#     print(k, v, SqlHelper.pydantic_to_postgres_type(v))"
   ]
  },
  {
   "cell_type": "code",
   "execution_count": 12,
   "id": "1349b43c",
   "metadata": {},
   "outputs": [
    {
     "data": {
      "text/plain": [
       "{'$defs': {'_MetaField': {'properties': {'name': {'title': 'Name',\n",
       "     'type': 'string'},\n",
       "    'type': {'anyOf': [{'type': 'string'}, {'type': 'null'}],\n",
       "     'default': 'str',\n",
       "     'title': 'Type'},\n",
       "    'description': {'anyOf': [{'type': 'string'}, {'type': 'null'}],\n",
       "     'default': None,\n",
       "     'title': 'Description'},\n",
       "    'embedding_provider': {'anyOf': [{'type': 'string'}, {'type': 'null'}],\n",
       "     'default': None,\n",
       "     'title': 'Embedding Provider'},\n",
       "    'default': {'anyOf': [{'type': 'string'}, {'type': 'null'}],\n",
       "     'default': None,\n",
       "     'title': 'Default'}},\n",
       "   'required': ['name'],\n",
       "   'title': '_MetaField',\n",
       "   'type': 'object'}},\n",
       " 'description': 'the meta model is a persisted version of a concrete model\\nthis can be saved and reloaded from the database and is used for agents',\n",
       " 'properties': {'id': {'title': 'Id', 'type': 'string'},\n",
       "  'description': {'default': '',\n",
       "   'description': 'System prompt or other overview description',\n",
       "   'title': 'Description',\n",
       "   'type': 'string'},\n",
       "  'name': {'title': 'Name', 'type': 'string'},\n",
       "  'namespace': {'default': 'public',\n",
       "   'description': 'An optional namespace',\n",
       "   'title': 'Namespace',\n",
       "   'type': 'string'},\n",
       "  'functions': {'anyOf': [{'type': 'object'}, {'type': 'null'}],\n",
       "   'default': {},\n",
       "   'description': 'A mapping of functions to use. simply map the function id to a description in a flat dict',\n",
       "   'title': 'Functions'},\n",
       "  'key_field': {'anyOf': [{'type': 'string'}, {'type': 'null'}],\n",
       "   'default': 'id',\n",
       "   'description': 'The primary key field - convention is to simply use id',\n",
       "   'title': 'Key Field'},\n",
       "  'fields': {'anyOf': [{'items': {'$ref': '#/$defs/_MetaField'},\n",
       "     'type': 'array'},\n",
       "    {'type': 'null'}],\n",
       "   'description': 'The fields and their properties',\n",
       "   'title': 'Fields'}},\n",
       " 'required': ['id', 'name', 'fields'],\n",
       " 'title': 'MetaModel',\n",
       " 'type': 'object'}"
      ]
     },
     "execution_count": 12,
     "metadata": {},
     "output_type": "execute_result"
    }
   ],
   "source": [
    "MetaModel.model_json_schema()"
   ]
  },
  {
   "cell_type": "code",
   "execution_count": 4,
   "id": "c5790eb7",
   "metadata": {},
   "outputs": [
    {
     "data": {
      "text/plain": [
       "[{'id': 'website_summary_agent',\n",
       "  'description': 'An agent to check websites and summarize their content using the external function endpoint_content_get.',\n",
       "  'name': 'Website Summary Agent',\n",
       "  'namespace': 'web_tools',\n",
       "  'functions': {'endpoint_content_get': 'Fetches and summarizes content from a given URL.'},\n",
       "  'key_field': 'id',\n",
       "  'fields': [{'name': 'name',\n",
       "    'type': 'str',\n",
       "    'description': 'The name of the website or content.',\n",
       "    'embedding_provider': 'default',\n",
       "    'default': ''},\n",
       "   {'name': 'url',\n",
       "    'type': 'str',\n",
       "    'description': 'The URL of the website to be summarized.',\n",
       "    'embedding_provider': 'default',\n",
       "    'default': ''},\n",
       "   {'name': 'description',\n",
       "    'type': 'str',\n",
       "    'description': 'A brief summary of the website content.',\n",
       "    'embedding_provider': 'default',\n",
       "    'default': ''},\n",
       "   {'name': 'authors',\n",
       "    'type': 'str',\n",
       "    'description': 'The authors of the website content.',\n",
       "    'embedding_provider': 'default',\n",
       "    'default': ''}],\n",
       "  'created_at': datetime.datetime(2024, 12, 15, 22, 24, 29, 85758),\n",
       "  'updated_at': datetime.datetime(2024, 12, 15, 23, 8, 53, 282702),\n",
       "  'deleted_at': None,\n",
       "  'userid': None}]"
      ]
     },
     "execution_count": 4,
     "metadata": {},
     "output_type": "execute_result"
    }
   ],
   "source": [
    "d = {'id': 'website_summary_agent', 'description': 'An agent to check websites and summarize their content using the external function endpoint_content_get.', 'name': 'Website Summary Agent', 'namespace': 'web_tools', 'functions': {'endpoint_content_get': 'Fetches and summarizes content from a given URL.'}, 'key_field': 'id', 'fields': [{'name': 'name', 'description': 'The name of the website or content.', 'embedding_provider': 'default', 'default': ''}, {'name': 'url', 'description': 'The URL of the website to be summarized.', 'embedding_provider': 'default', 'default': ''}, {'name': 'description', 'description': 'A brief summary of the website content.', 'embedding_provider': 'default', 'default': ''}, {'name': 'authors', 'description': 'The authors of the website content.', 'embedding_provider': 'default', 'default': ''}]}\n",
    "m = MetaModel(**d)\n",
    "m.model_dump()\n",
    "repo.update_records(m)"
   ]
  },
  {
   "cell_type": "code",
   "execution_count": 5,
   "id": "a8cc4604",
   "metadata": {},
   "outputs": [
    {
     "data": {
      "text/plain": [
       "{'id': FieldInfo(annotation=str, required=True),\n",
       " 'description': FieldInfo(annotation=str, required=False, default='', description='System prompt or other overview description'),\n",
       " 'name': FieldInfo(annotation=str, required=True),\n",
       " 'namespace': FieldInfo(annotation=str, required=False, default='public', description='An optional namespace'),\n",
       " 'functions': FieldInfo(annotation=Union[dict, NoneType], required=False, default={}, description='A mapping of functions to use. simply map the function id to a description in a flat dict'),\n",
       " 'key_field': FieldInfo(annotation=Union[str, NoneType], required=False, default='id', description='The primary key field - convention is to simply use id'),\n",
       " 'fields': FieldInfo(annotation=Union[List[_MetaField], NoneType], required=True, description='The fields and their properties')}"
      ]
     },
     "execution_count": 5,
     "metadata": {},
     "output_type": "execute_result"
    }
   ],
   "source": [
    "MetaModel.model_fields"
   ]
  },
  {
   "cell_type": "code",
   "execution_count": 6,
   "id": "b138ca0c",
   "metadata": {},
   "outputs": [
    {
     "data": {
      "text/plain": [
       "FieldInfo(annotation=str, required=False, default=None, json_schema_extra={'embedding_provider': 'default'})"
      ]
     },
     "execution_count": 6,
     "metadata": {},
     "output_type": "execute_result"
    }
   ],
   "source": [
    "from pydantic.fields import FieldInfo\n",
    "FieldInfo (annotation=str, default=None, descrtion='test', json_schema_extra={'embedding_provider':'default'})"
   ]
  },
  {
   "cell_type": "code",
   "execution_count": 9,
   "id": "43f4e8af",
   "metadata": {},
   "outputs": [
    {
     "data": {
      "text/plain": [
       "{'properties': {'name': {'default': '',\n",
       "   'description': 'The name of the website or content.',\n",
       "   'title': 'Name',\n",
       "   'type': 'string'},\n",
       "  'url': {'default': '',\n",
       "   'description': 'The URL of the website to be summarized.',\n",
       "   'title': 'Url',\n",
       "   'type': 'string'},\n",
       "  'description': {'default': '',\n",
       "   'description': 'A brief summary of the website content.',\n",
       "   'title': 'Description',\n",
       "   'type': 'string'},\n",
       "  'authors': {'default': '',\n",
       "   'description': 'The authors of the website content.',\n",
       "   'title': 'Authors',\n",
       "   'type': 'string'}},\n",
       " 'title': 'Website_Summary_Agent',\n",
       " 'type': 'object'}"
      ]
     },
     "execution_count": 9,
     "metadata": {},
     "output_type": "execute_result"
    }
   ],
   "source": [
    "M = AbstractModel.create_from_meta_model(m)\n",
    "M.model_json_schema()"
   ]
  },
  {
   "cell_type": "code",
   "execution_count": 10,
   "id": "aad72e6d",
   "metadata": {
    "scrolled": false
   },
   "outputs": [
    {
     "name": "stderr",
     "output_type": "stream",
     "text": [
      "\u001b[32m2024-12-15 18:09:23.380\u001b[0m | \u001b[33m\u001b[1mWARNING \u001b[0m | \u001b[36mpyaida.core.lang.FunctionManager\u001b[0m:\u001b[36m__init__\u001b[0m:\u001b[36m31\u001b[0m - \u001b[33m\u001b[1mFailed to load the default API proxy json - may have trouble calling some default endpoint\u001b[0m\n"
     ]
    },
    {
     "data": {
      "text/plain": [
       "'My prime objective is to check websites and summarize their content using the external function endpoint_content_get.'"
      ]
     },
     "execution_count": 10,
     "metadata": {},
     "output_type": "execute_result"
    }
   ],
   "source": [
    "r = Runner(M)\n",
    "r(\"What is your prime objective\")"
   ]
  },
  {
   "cell_type": "code",
   "execution_count": 5,
   "id": "e4a95bf3",
   "metadata": {
    "scrolled": false
   },
   "outputs": [
    {
     "name": "stderr",
     "output_type": "stream",
     "text": [
      "\u001b[32m2024-12-15 17:26:40.099\u001b[0m | \u001b[33m\u001b[1mWARNING \u001b[0m | \u001b[36mpyaida.core.lang.FunctionManager\u001b[0m:\u001b[36m__init__\u001b[0m:\u001b[36m31\u001b[0m - \u001b[33m\u001b[1mFailed to load the default API proxy json - may have trouble calling some default endpoint\u001b[0m\n",
      "\u001b[32m2024-12-15 17:26:42.668\u001b[0m | \u001b[34m\u001b[1mDEBUG   \u001b[0m | \u001b[36mpyaida.core.lang.Runner\u001b[0m:\u001b[36minvoke\u001b[0m:\u001b[36m155\u001b[0m - \u001b[34m\u001b[1mfunction_call=FunctionCall(name='f73fc_MetaModel_save', arguments={'data': {'id': 'website_summary_agent', 'description': 'An agent to check websites and summarize their content using the external function endpoint_content_get.', 'name': 'Website Summary Agent', 'namespace': 'web_tools', 'functions': {'endpoint_content_get': 'Fetches the content of a given URL.'}, 'key_field': 'id', 'fields': [{'name': 'name', 'description': 'The name of the website or content.', 'embedding_provider': 'default', 'default': ''}, {'name': 'url', 'description': 'The URL of the website to be checked.', 'embedding_provider': 'default', 'default': ''}, {'name': 'description', 'description': 'A summary of the website content.', 'embedding_provider': 'default', 'default': ''}, {'name': 'authors', 'description': 'The authors of the website content.', 'embedding_provider': 'default', 'default': ''}]}})\u001b[0m\n"
     ]
    },
    {
     "data": {
      "text/markdown": [
       "The agent has been successfully created and saved. It is designed to check websites and summarize their content using the external function `endpoint_content_get`. The object includes fields for name, url, description, and authors."
      ],
      "text/plain": [
       "<IPython.core.display.Markdown object>"
      ]
     },
     "execution_count": 5,
     "metadata": {},
     "output_type": "execute_result"
    }
   ],
   "source": [
    "#add in plan over multiple database agents and log and test more crud for aidb / add user ids on all crud for multi tenency \n",
    "#then we need to start thinking about background tasks and query planners-the trick will be to enable a sort of smart index that covers all bases -> plan sproc \n",
    "from pyaida.core.data.AbstractModel import MetaModel\n",
    "\n",
    "r = Runner(MetaModel)\n",
    "a = r.run(\"Create and save an agent to check websites and summarize their content using the external function endpoint_content_get. You should return an object that has the name, url, description, authors \")\n",
    "Markdown(a)\n",
    "#Markdown(pyaida.ask(\"Create an agent to check websites and summarize their content using the external function endpoint_content_get. You should return an object that has the name, url, description, authors \", model=MetaModel))"
   ]
  },
  {
   "cell_type": "code",
   "execution_count": 6,
   "id": "8bdebea9",
   "metadata": {},
   "outputs": [
    {
     "data": {
      "text/plain": [
       "{'id': 'website_summary_agent',\n",
       " 'description': 'An agent to check websites and summarize their content using the external function endpoint_content_get.',\n",
       " 'name': 'Website Summary Agent',\n",
       " 'namespace': 'web_tools',\n",
       " 'functions': {'endpoint_content_get': 'Fetches the content of a given URL.'},\n",
       " 'key_field': 'id',\n",
       " 'fields': [{'name': 'name',\n",
       "   'description': 'The name of the website or content.',\n",
       "   'embedding_provider': 'default',\n",
       "   'default': ''},\n",
       "  {'name': 'url',\n",
       "   'description': 'The URL of the website to be checked.',\n",
       "   'embedding_provider': 'default',\n",
       "   'default': ''},\n",
       "  {'name': 'description',\n",
       "   'description': 'A summary of the website content.',\n",
       "   'embedding_provider': 'default',\n",
       "   'default': ''},\n",
       "  {'name': 'authors',\n",
       "   'description': 'The authors of the website content.',\n",
       "   'embedding_provider': 'default',\n",
       "   'default': ''}]}"
      ]
     },
     "execution_count": 6,
     "metadata": {},
     "output_type": "execute_result"
    }
   ],
   "source": [
    "data = pg.repository(MetaModel).select_to_model()\n",
    "data[0].model_dump()"
   ]
  },
  {
   "cell_type": "code",
   "execution_count": 8,
   "id": "20c4becf",
   "metadata": {},
   "outputs": [
    {
     "data": {
      "text/plain": [
       "{'{\"name\": \"authors\", \"description\": \"The authors of the website content.\", \"embedding_provider\": \"default\", \"default\": \"\"}',\n",
       " '{\"name\": \"description\", \"description\": \"A brief summary of the website content.\", \"embedding_provider\": \"default\", \"default\": \"\"}',\n",
       " '{\"name\": \"name\", \"description\": \"The name of the website or content.\", \"embedding_provider\": \"default\", \"default\": \"\"}',\n",
       " '{\"name\": \"url\", \"description\": \"The URL of the website to be summarized.\", \"embedding_provider\": \"default\", \"default\": \"\"}'}"
      ]
     },
     "execution_count": 8,
     "metadata": {},
     "output_type": "execute_result"
    }
   ],
   "source": [
    "import json\n",
    "from ast import literal_eval\n",
    "literal_eval(data[1]['fields'])"
   ]
  },
  {
   "cell_type": "code",
   "execution_count": null,
   "id": "b6b50a9e",
   "metadata": {},
   "outputs": [],
   "source": [
    "\n",
    "Markdown(pyaida.ask(\"What emails do we have related to culture, history and human cultivation or cosmographia\", model=HtmlEmail))"
   ]
  },
  {
   "cell_type": "code",
   "execution_count": null,
   "id": "b17d788b",
   "metadata": {},
   "outputs": [],
   "source": [
    "Markdown(pyaida.ask(\"What emails do we have related to AI\", model=HtmlEmail))"
   ]
  },
  {
   "cell_type": "code",
   "execution_count": null,
   "id": "64c4779c",
   "metadata": {
    "scrolled": true
   },
   "outputs": [],
   "source": [
    "#!pip install --upgrade google-api-python-client google-auth-httplib2 google-auth-oauthlib\n",
    "#!pip uninstall -y pycrypto &  pip install pycryptodome\n",
    "import os.path\n",
    "import base64\n",
    "import google.auth\n",
    "import tqdm\n",
    "from google.auth.transport.requests import Request\n",
    "from google.oauth2.credentials import Credentials\n",
    "from google_auth_oauthlib.flow import InstalledAppFlow\n",
    "from googleapiclient.discovery import build\n",
    "from googleapiclient.errors import HttpError\n",
    "from datetime import datetime, timedelta\n",
    "\n",
    "import pyaida\n",
    "\n",
    "\n",
    "\n",
    "# If modifying these SCOPES, delete the file token.json.\n",
    "SCOPES = ['https://www.googleapis.com/auth/gmail.readonly']\n",
    "def fetch_gmail_since(limit=50, domain_filters=None, start_date=None, sender_domain=None):\n",
    "    \"\"\"Shows basic usage of the Gmail API.\n",
    "    Lists the user's Gmail labels.\n",
    "    \"\"\"\n",
    "    creds = None\n",
    "    # The file token.json stores the user's access and refresh tokens, and is\n",
    "    # created automatically when the authorization flow completes for the first\n",
    "    # time.\n",
    "    if os.path.exists('token.json'):\n",
    "        creds = Credentials.from_authorized_user_file('token.json', SCOPES)\n",
    "    # If there are no (valid) credentials available, let the user log in.\n",
    "    if not creds or not creds.valid:\n",
    "        if creds and creds.expired and creds.refresh_token:\n",
    "            creds.refresh(Request())\n",
    "        else:\n",
    "            flow = InstalledAppFlow.from_client_secrets_file(\n",
    "                '/Users/sirsh/Documents/client_secret_628072079999-9jn030r6d13vfk8mjsp3kpsv2fkijqvm.apps.googleusercontent.com.json', SCOPES)\n",
    "            creds = flow.run_local_server(port=0)\n",
    "        # Save the credentials for the next run\n",
    "        with open('token.json', 'w') as token:\n",
    "            token.write(creds.to_json())\n",
    "\n",
    "    try:\n",
    "        service = build('gmail', 'v1', credentials=creds)\n",
    "        today = datetime.now().date()\n",
    "        start_date = datetime.strptime(start_date, '%Y-%m-%d').date() if start_date else today\n",
    "        all_messages = [] \n",
    "        current_date = start_date\n",
    "\n",
    "        while current_date < today:\n",
    "            next_date = current_date + timedelta(days=30)\n",
    "            if next_date > today:\n",
    "                next_date = today  # Ensure we don't go beyond today\n",
    "\n",
    "            from_date = current_date.strftime('%Y/%m/%d')\n",
    "            to_date = next_date.strftime('%Y/%m/%d')\n",
    "            query = f'after:{from_date} before:{to_date}'\n",
    "            if sender_domain:\n",
    "                query += f' from:@{sender_domain}'\n",
    "\n",
    "            print(f\"Fetching messages for: {from_date} to {to_date}\")\n",
    "\n",
    "            next_page_token = None\n",
    "        \n",
    "            while True:  # Pagination loop\n",
    "                results = service.users().messages().list(userId='me', q=query, maxResults=limit,pageToken = next_page_token).execute()\n",
    "                messages = results.get('messages', [])\n",
    "                print(f'chunking... {next_page_token}')\n",
    "                for message in tqdm.tqdm(messages):\n",
    "                    \n",
    "                    message = service.users().messages().get(userId='me', id=message['id'], format='raw').execute()\n",
    "                    m = HtmlEmail.parse_raw_to_html(message['raw'])\n",
    "                    print(m.sender)\n",
    "                    if domain_filters:\n",
    "                        for d in domain_filters:\n",
    "                            if d in m.sender:\n",
    "                                all_messages.append(m)\n",
    "                    else:\n",
    "                        all_messages.append(m)\n",
    "                        \n",
    "                next_page_token = results.get('nextPageToken')\n",
    "                print([m.sender for m in all_messages[-2:]])\n",
    "                repo.update_records(all_messages)\n",
    "                all_messages = []\n",
    "                if not next_page_token:\n",
    "                    break  # No more pages for this query\n",
    "                    \n",
    "                \n",
    "            # Move to the next 30-day window\n",
    "            current_date = next_date\n",
    "\n",
    "        return data\n",
    "    except HttpError as error:\n",
    "        print(f'An error occurred: {error}')\n",
    "        \n",
    "m = fetch_gmail_since(start_date='2024-09-01', sender_domain='substack.com')\n",
    "m[0]"
   ]
  },
  {
   "cell_type": "code",
   "execution_count": null,
   "id": "aa48051d",
   "metadata": {},
   "outputs": [],
   "source": [
    "from IPython.display import Markdown\n",
    "import pyaida\n",
    "from pyaida import Runner, AbstractModel\n",
    "from pyaida.core.data.AbstractModel import MetaModel\n",
    "from pyaida.core.lang.functions import FunctionModel, Function\n",
    "from pyaida.core.lang import FunctionManager\n",
    "from pyaida import pg"
   ]
  },
  {
   "cell_type": "code",
   "execution_count": null,
   "id": "7b7636f1",
   "metadata": {},
   "outputs": [],
   "source": [
    "#pg.repository(MetaModel).register()"
   ]
  },
  {
   "cell_type": "markdown",
   "id": "35ac3f44",
   "metadata": {},
   "source": [
    "# The most basic thing \n",
    "- you should be able to do is create an object and run\n",
    "- the object has a system prompt and some functions including externs\n",
    "- later we can load these objects from the database"
   ]
  },
  {
   "cell_type": "code",
   "execution_count": null,
   "id": "9008b9b9",
   "metadata": {},
   "outputs": [],
   "source": [
    "class MyAgent(AbstractModel):\n",
    "    \"\"\"You are an agent that calls the functions the user suggests to get the answer\"\"\"\n",
    "    \n",
    "    class Config:\n",
    "        functions: dict = {\n",
    "            \"describe_url_get\": \"A function to get the details at some url\"\n",
    "        }\n",
    "    name: str\n",
    "    description: str\n",
    "        \n",
    "    @classmethod\n",
    "    def do_the_thing(cls, the_input:str):\n",
    "        \"\"\"\n",
    "        This function does the thing - if the user supplies no value you can pass in any input you like as this is for testing\n",
    "        \n",
    "        Args:\n",
    "            the_input: pass in any input to do the thing - choose any value if none supplied by user\n",
    "        \"\"\"\n",
    "        if the_input is None:\n",
    "            return \"You called the function without any parameters - please call it again and supply ANY value without asking the user for help\"\n",
    "        return f\"You have called the function with the input [{the_input}]\"\n",
    "\n",
    "from IPython.display import Markdown\n",
    "\n",
    "Markdown(MyAgent._get_system_prompt_markdown())"
   ]
  },
  {
   "cell_type": "code",
   "execution_count": null,
   "id": "0d9e3ff6",
   "metadata": {},
   "outputs": [],
   "source": [
    "MyAgent.to_meta_model()"
   ]
  },
  {
   "cell_type": "code",
   "execution_count": null,
   "id": "fe2e4d09",
   "metadata": {},
   "outputs": [],
   "source": [
    "pg.repository(MetaModel).update_records(MyAgent.to_meta_model())"
   ]
  },
  {
   "cell_type": "markdown",
   "id": "de917a92",
   "metadata": {},
   "source": [
    "## Get an instance of the runner and check its default functions\n",
    "- it has runner functions and also any that are defined on the agent\n",
    "- check the spec (naming must be global and openai friendly)\n",
    "- and check the callable"
   ]
  },
  {
   "cell_type": "code",
   "execution_count": null,
   "id": "0458af6a",
   "metadata": {},
   "outputs": [],
   "source": [
    "r=Runner(MyAgent)\n",
    "r"
   ]
  },
  {
   "cell_type": "code",
   "execution_count": null,
   "id": "8837f3e4",
   "metadata": {},
   "outputs": [],
   "source": [
    "r.functions"
   ]
  },
  {
   "cell_type": "code",
   "execution_count": null,
   "id": "cc3a8366",
   "metadata": {},
   "outputs": [],
   "source": [
    "r.functions['90cc5_MyAgent_do_the_thing'].to_json_spec()"
   ]
  },
  {
   "cell_type": "code",
   "execution_count": null,
   "id": "8f4c2764",
   "metadata": {},
   "outputs": [],
   "source": [
    "r.functions['90cc5_MyAgent_do_the_thing'](the_input='test it')"
   ]
  },
  {
   "cell_type": "markdown",
   "id": "bebaafda",
   "metadata": {},
   "source": [
    "## Next test that the agent runs and calls the function"
   ]
  },
  {
   "cell_type": "code",
   "execution_count": null,
   "id": "e9fa8712",
   "metadata": {},
   "outputs": [],
   "source": [
    "r(\"what parameters are specified for the function defintion of `do_the_thing`\")"
   ]
  },
  {
   "cell_type": "code",
   "execution_count": null,
   "id": "e229cd23",
   "metadata": {},
   "outputs": [],
   "source": [
    "r(\"please do the thing\")"
   ]
  },
  {
   "cell_type": "code",
   "execution_count": null,
   "id": "2c99d5a8",
   "metadata": {},
   "outputs": [],
   "source": [
    "r.messages.model_dump()"
   ]
  },
  {
   "cell_type": "markdown",
   "id": "cc406b56",
   "metadata": {},
   "source": [
    "## Now we want to understand how external functions are loaded\n",
    "- discover on other object\n",
    "- discover on API"
   ]
  },
  {
   "cell_type": "code",
   "execution_count": null,
   "id": "bc97f7e5",
   "metadata": {},
   "outputs": [],
   "source": [
    "uri = 'http://127.0.0.1:8002/openapi.json'\n",
    "from pyaida.core.parsing.openapi import OpenApiSpec\n",
    "\n",
    "s = OpenApiSpec(uri)\n",
    "\n",
    "s._endpoint_methods"
   ]
  },
  {
   "cell_type": "code",
   "execution_count": null,
   "id": "67760256",
   "metadata": {},
   "outputs": [],
   "source": [
    "\"\"\"the function manager can now use the proxy to call functions\"\"\"\n",
    "\n",
    "from pyaida.core.lang import FunctionManager\n",
    "\n",
    "f = FunctionManager()\n",
    "\"\"\"function managers can load API proxies - by default the pyaida api is used\"\"\"\n",
    "f.proxy.endpoints"
   ]
  },
  {
   "cell_type": "code",
   "execution_count": null,
   "id": "fcb4cba6",
   "metadata": {},
   "outputs": [],
   "source": [
    "f.proxy.invoke_function('get_resources__get')[0]"
   ]
  },
  {
   "cell_type": "code",
   "execution_count": null,
   "id": "8c7c0143",
   "metadata": {},
   "outputs": [],
   "source": []
  },
  {
   "cell_type": "code",
   "execution_count": null,
   "id": "1c7b95d0",
   "metadata": {},
   "outputs": [],
   "source": [
    "\"\"\"test that the spec matches the correct format\"\"\"\n",
    "f.proxy.get_resources__get.spec"
   ]
  },
  {
   "cell_type": "code",
   "execution_count": null,
   "id": "442e0390",
   "metadata": {},
   "outputs": [],
   "source": [
    "\"\"\"we can access the operation as an attribute so that the proxy is more object like\"\"\"\n",
    "f.proxy.get_resources__get()[0]"
   ]
  },
  {
   "cell_type": "code",
   "execution_count": null,
   "id": "33c47c8f",
   "metadata": {},
   "outputs": [],
   "source": [
    "\"\"\"we now need to check activation\n",
    "1. by default the pyaida should be used\n",
    "2. we should be able to qualify an API and there should be a lookup in the database to gets its url and token\n",
    "\"\"\"\n",
    "\n",
    "added_functions = f.add_functions_by_key('get_resources__get')\n",
    "#cjec call , no params -> added_functions[0]()\n",
    "added_functions"
   ]
  },
  {
   "cell_type": "code",
   "execution_count": null,
   "id": "c8224c48",
   "metadata": {},
   "outputs": [],
   "source": [
    "added_functions[0].to_json_spec(), added_functions[0].hashed_qualified_name"
   ]
  },
  {
   "cell_type": "code",
   "execution_count": null,
   "id": "b7bfdfd8",
   "metadata": {},
   "outputs": [],
   "source": [
    "\"\"\"now check that we can also load libray functions e.g. any agent in the code base has functions\"\"\"\n",
    "\n",
    "added_functions = f.add_functions_by_key('system.Plan.test_plan')\n",
    "#cjec call , no params -> added_functions[0](context='test')\n",
    "added_functions"
   ]
  },
  {
   "cell_type": "code",
   "execution_count": null,
   "id": "3ffbf71e",
   "metadata": {},
   "outputs": [],
   "source": [
    "added_functions[0].to_json_spec(), added_functions[0].hashed_qualified_name"
   ]
  },
  {
   "cell_type": "code",
   "execution_count": null,
   "id": "1e0960c1",
   "metadata": {},
   "outputs": [],
   "source": [
    "\"\"\"now test it in the runner - if the function manager can add functions and they are callable\n",
    "the agent should be able to also\n",
    "\"\"\"\n",
    "from IPython.display import Markdown\n",
    "\n",
    "Markdown(r(\"Please call the function get_resources__get and tell me what you find\"))"
   ]
  },
  {
   "cell_type": "markdown",
   "id": "ced60c57",
   "metadata": {},
   "source": [
    "# Part 2 - reading models from the database\n",
    "- we just check the basic binding and the ability to create new objects via the API\n",
    "- then we swtich to a planning mode which will flex the postgres modalities "
   ]
  },
  {
   "cell_type": "code",
   "execution_count": null,
   "id": "48e3c305",
   "metadata": {},
   "outputs": [],
   "source": [
    "from IPython.display import Markdown\n",
    "import pyaida\n",
    "from pyaida import Runner, AbstractModel\n",
    "from pyaida.core.lang.functions import FunctionModel, Function\n",
    "from pyaida.core.lang import FunctionManager\n",
    "from pyaida import pg"
   ]
  },
  {
   "cell_type": "code",
   "execution_count": null,
   "id": "5a8181b5",
   "metadata": {},
   "outputs": [],
   "source": [
    "#pg.repository(FunctionModel).register(plan=False)"
   ]
  },
  {
   "cell_type": "code",
   "execution_count": null,
   "id": "a930fdd9",
   "metadata": {},
   "outputs": [],
   "source": [
    "pg.execute(\"SELECT * FROM FunctionModel\")"
   ]
  },
  {
   "cell_type": "code",
   "execution_count": null,
   "id": "5460915b",
   "metadata": {},
   "outputs": [],
   "source": [
    "import uuid\n",
    "\n",
    "def test_function(arg:str):\n",
    "    \"\"\"some test function\n",
    "    Args:\n",
    "        arg: description\n",
    "    \"\"\"\n",
    "    return arg\n",
    "test_function.__name__\n",
    "fn = FunctionModel.from_function(test_function)\n",
    "fn\n",
    "#pg.update_records(fns)"
   ]
  },
  {
   "cell_type": "code",
   "execution_count": null,
   "id": "403885d0",
   "metadata": {},
   "outputs": [],
   "source": [
    "pg.repository(FunctionModel).update_records(fn)"
   ]
  },
  {
   "cell_type": "code",
   "execution_count": null,
   "id": "c7dfe592",
   "metadata": {},
   "outputs": [],
   "source": [
    "pg.repository(FunctionModel).load_model_from_key('test_function')"
   ]
  },
  {
   "cell_type": "code",
   "execution_count": null,
   "id": "3d9cc82a",
   "metadata": {},
   "outputs": [],
   "source": [
    "op_uid = None\n",
    "model = pyaida.pg.repository(FunctionModel).select(op_uid) \n",
    "print(model.Config.functions)\n",
    "Markdown(model._get_system_prompt_markdown())"
   ]
  },
  {
   "cell_type": "code",
   "execution_count": null,
   "id": "4668d123",
   "metadata": {},
   "outputs": [],
   "source": [
    "uuid.uuid1()"
   ]
  },
  {
   "cell_type": "code",
   "execution_count": null,
   "id": "e42c3926",
   "metadata": {},
   "outputs": [],
   "source": []
  }
 ],
 "metadata": {
  "kernelspec": {
   "display_name": "Python 3 (ipykernel)",
   "language": "python",
   "name": "python3"
  },
  "language_info": {
   "codemirror_mode": {
    "name": "ipython",
    "version": 3
   },
   "file_extension": ".py",
   "mimetype": "text/x-python",
   "name": "python",
   "nbconvert_exporter": "python",
   "pygments_lexer": "ipython3",
   "version": "3.10.10"
  }
 },
 "nbformat": 4,
 "nbformat_minor": 5
}
