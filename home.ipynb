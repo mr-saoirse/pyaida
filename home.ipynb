{
 "cells": [
  {
   "cell_type": "code",
   "execution_count": null,
   "id": "5a52cae8",
   "metadata": {},
   "outputs": [],
   "source": [
    "import pyaida\n",
    "from pyaida import Runner, AbstractModel"
   ]
  },
  {
   "cell_type": "markdown",
   "id": "35ac3f44",
   "metadata": {},
   "source": [
    "# The most basic thing \n",
    "- you should be able to do is create an object and run\n",
    "- the object has a system prompt and some functions including externs\n",
    "- later we can load these objects from the database"
   ]
  },
  {
   "cell_type": "code",
   "execution_count": null,
   "id": "9008b9b9",
   "metadata": {},
   "outputs": [],
   "source": [
    "class MyAgent(AbstractModel):\n",
    "    \"\"\"You are an agent that calls the functions the user suggests to get the answer\"\"\"\n",
    "    \n",
    "    name: str\n",
    "    description: str\n",
    "        \n",
    "    @classmethod\n",
    "    def do_the_thing(cls, the_input:str):\n",
    "        \"\"\"\n",
    "        This function does the thing - if the user supplies no value you can pass in any input you like as this is for testing\n",
    "        \n",
    "        Args:\n",
    "            the_input: pass in any input to do the thing - choose any value if none supplied by user\n",
    "        \"\"\"\n",
    "        if the_input is None:\n",
    "            return \"You called the function without any parameters - please call it again and supply ANY value without asking the user for help\"\n",
    "        return f\"You have called the function with the input [{the_input}]\"\n",
    "\n",
    "from IPython.display import Markdown\n",
    "\n",
    "Markdown(MyAgent._get_system_prompt_markdown())"
   ]
  },
  {
   "cell_type": "markdown",
   "id": "de917a92",
   "metadata": {},
   "source": [
    "## Get an instance of the runner and check its default functions\n",
    "- it has runner functions and also any that are defined on the agent\n",
    "- check the spec (naming must be global and openai friendly)\n",
    "- and check the callable"
   ]
  },
  {
   "cell_type": "code",
   "execution_count": null,
   "id": "0458af6a",
   "metadata": {},
   "outputs": [],
   "source": [
    "r=Runner(MyAgent)\n",
    "r"
   ]
  },
  {
   "cell_type": "code",
   "execution_count": null,
   "id": "8837f3e4",
   "metadata": {},
   "outputs": [],
   "source": [
    "r.functions"
   ]
  },
  {
   "cell_type": "code",
   "execution_count": null,
   "id": "cc3a8366",
   "metadata": {},
   "outputs": [],
   "source": [
    "r.functions['90cc5_MyAgent_do_the_thing'].to_json_spec()"
   ]
  },
  {
   "cell_type": "code",
   "execution_count": null,
   "id": "8f4c2764",
   "metadata": {},
   "outputs": [],
   "source": [
    "r.functions['90cc5_MyAgent_do_the_thing'](the_input='test it')"
   ]
  },
  {
   "cell_type": "markdown",
   "id": "bebaafda",
   "metadata": {},
   "source": [
    "## Next test that the agent runs and calls the function"
   ]
  },
  {
   "cell_type": "code",
   "execution_count": null,
   "id": "e9fa8712",
   "metadata": {},
   "outputs": [],
   "source": [
    "r(\"what parameters are specified for the function defintion of `do_the_thing`\")"
   ]
  },
  {
   "cell_type": "code",
   "execution_count": null,
   "id": "e229cd23",
   "metadata": {},
   "outputs": [],
   "source": [
    "r(\"please do the thing\")"
   ]
  },
  {
   "cell_type": "code",
   "execution_count": null,
   "id": "2c99d5a8",
   "metadata": {},
   "outputs": [],
   "source": [
    "r.messages.model_dump()"
   ]
  },
  {
   "cell_type": "markdown",
   "id": "cc406b56",
   "metadata": {},
   "source": [
    "## Now we want to understand how external functions are loaded\n",
    "- discover on other object\n",
    "- discover on API"
   ]
  },
  {
   "cell_type": "code",
   "execution_count": null,
   "id": "bc97f7e5",
   "metadata": {},
   "outputs": [],
   "source": [
    "uri = 'http://127.0.0.1:8002/openapi.json'\n",
    "from pyaida.core.parsing.openapi import OpenApiSpec\n",
    "\n",
    "s = OpenApiSpec(uri)\n",
    "\n",
    "s._endpoint_methods"
   ]
  },
  {
   "cell_type": "code",
   "execution_count": null,
   "id": "67760256",
   "metadata": {},
   "outputs": [],
   "source": [
    "\"\"\"the function manager can now use the proxy to call functions\"\"\"\n",
    "\n",
    "from pyaida.core.lang import FunctionManager\n",
    "\n",
    "f = FunctionManager()\n",
    "\"\"\"function managers can load API proxies - by default the pyaida api is used\"\"\"\n",
    "f.proxy.endpoints"
   ]
  },
  {
   "cell_type": "code",
   "execution_count": null,
   "id": "fcb4cba6",
   "metadata": {},
   "outputs": [],
   "source": [
    "f.proxy.invoke_function('get_resources__get')[0]"
   ]
  },
  {
   "cell_type": "code",
   "execution_count": null,
   "id": "8c7c0143",
   "metadata": {},
   "outputs": [],
   "source": []
  },
  {
   "cell_type": "code",
   "execution_count": null,
   "id": "1c7b95d0",
   "metadata": {},
   "outputs": [],
   "source": [
    "\"\"\"test that the spec matches the correct format\"\"\"\n",
    "f.proxy.get_resources__get.spec"
   ]
  },
  {
   "cell_type": "code",
   "execution_count": null,
   "id": "442e0390",
   "metadata": {},
   "outputs": [],
   "source": [
    "\"\"\"we can access the operation as an attribute so that the proxy is more object like\"\"\"\n",
    "f.proxy.get_resources__get()[0]"
   ]
  },
  {
   "cell_type": "code",
   "execution_count": null,
   "id": "33c47c8f",
   "metadata": {},
   "outputs": [],
   "source": [
    "\"\"\"we now need to check activation\n",
    "1. by default the pyaida should be used\n",
    "2. we should be able to qualify an API and there should be a lookup in the database to gets its url and token\n",
    "\"\"\"\n",
    "\n",
    "added_functions = f.add_functions_by_key('get_resources__get')\n",
    "#cjec call , no params -> added_functions[0]()\n",
    "added_functions"
   ]
  },
  {
   "cell_type": "code",
   "execution_count": null,
   "id": "c8224c48",
   "metadata": {},
   "outputs": [],
   "source": [
    "added_functions[0].to_json_spec(), added_functions[0].hashed_qualified_name"
   ]
  },
  {
   "cell_type": "code",
   "execution_count": null,
   "id": "b7bfdfd8",
   "metadata": {},
   "outputs": [],
   "source": [
    "\"\"\"now check that we can also load libray functions e.g. any agent in the code base has functions\"\"\"\n",
    "\n",
    "added_functions = f.add_functions_by_key('system.Plan.test_plan')\n",
    "#cjec call , no params -> added_functions[0](context='test')\n",
    "added_functions"
   ]
  },
  {
   "cell_type": "code",
   "execution_count": null,
   "id": "3ffbf71e",
   "metadata": {},
   "outputs": [],
   "source": [
    "added_functions[0].to_json_spec(), added_functions[0].hashed_qualified_name"
   ]
  },
  {
   "cell_type": "code",
   "execution_count": null,
   "id": "1e0960c1",
   "metadata": {},
   "outputs": [],
   "source": [
    "\"\"\"now test it in the runner - if the function manager can add functions and they are callable\n",
    "the agent should be able to also\n",
    "\"\"\"\n",
    "from IPython.display import Markdown\n",
    "\n",
    "Markdown(r(\"Please call the function get_resources__get and tell me what you find\"))"
   ]
  },
  {
   "cell_type": "markdown",
   "id": "ced60c57",
   "metadata": {},
   "source": [
    "# Part 2 - reading models from the database\n",
    "- we just check the basic binding and the ability to create new objects via the API\n",
    "- then we swtich to a planning mode which will flex the postgres modalities "
   ]
  },
  {
   "cell_type": "code",
   "execution_count": 14,
   "id": "48e3c305",
   "metadata": {},
   "outputs": [],
   "source": [
    "from IPython.display import Markdown\n",
    "import pyaida\n",
    "from pyaida import Runner, AbstractModel\n",
    "from pyaida.core.lang.functions import FunctionModel, Function\n",
    "from pyaida.core.lang import FunctionManager\n",
    "from pyaida import pg"
   ]
  },
  {
   "cell_type": "code",
   "execution_count": 15,
   "id": "5a8181b5",
   "metadata": {},
   "outputs": [],
   "source": [
    "#pg.repository(FunctionModel).register(plan=False)"
   ]
  },
  {
   "cell_type": "code",
   "execution_count": 28,
   "id": "a930fdd9",
   "metadata": {},
   "outputs": [
    {
     "data": {
      "text/plain": [
       "[{'id': '8ba12db8-b753-11ef-bf11-7606330c235f',\n",
       "  'description': 'some test function',\n",
       "  'name': 'test_function',\n",
       "  'key': 'test_function',\n",
       "  'spec': {'name': 'test_function',\n",
       "   'description': 'some test function',\n",
       "   'parameters': {'properties': {'arg': {'description': 'description',\n",
       "      'title': 'Arg',\n",
       "      'type': 'string'}},\n",
       "    'type': 'object'}},\n",
       "  'group_id': None,\n",
       "  'created_at': datetime.datetime(2024, 12, 11, 0, 4, 53, 298568),\n",
       "  'updated_at': datetime.datetime(2024, 12, 11, 0, 4, 53, 298568),\n",
       "  'deleted_at': None,\n",
       "  'userid': None},\n",
       " {'id': '199fdfb0-b754-11ef-819b-7606330c235f',\n",
       "  'description': 'some test function',\n",
       "  'name': 'test_function',\n",
       "  'key': 'test_function',\n",
       "  'spec': {'name': 'test_function',\n",
       "   'description': 'some test function',\n",
       "   'parameters': {'properties': {'arg': {'description': 'description',\n",
       "      'title': 'Arg',\n",
       "      'type': 'string'}},\n",
       "    'type': 'object'}},\n",
       "  'group_id': None,\n",
       "  'created_at': datetime.datetime(2024, 12, 11, 0, 8, 51, 888414),\n",
       "  'updated_at': datetime.datetime(2024, 12, 11, 0, 8, 51, 888414),\n",
       "  'deleted_at': None,\n",
       "  'userid': None},\n",
       " {'id': '304dffda-b754-11ef-ba9e-7606330c235f',\n",
       "  'description': 'some test function',\n",
       "  'name': 'test_function',\n",
       "  'key': 'test_function',\n",
       "  'spec': {'name': 'test_function',\n",
       "   'description': 'some test function',\n",
       "   'parameters': {'properties': {'arg': {'description': 'description',\n",
       "      'title': 'Arg',\n",
       "      'type': 'string'}},\n",
       "    'type': 'object'}},\n",
       "  'group_id': None,\n",
       "  'created_at': datetime.datetime(2024, 12, 11, 0, 9, 29, 897069),\n",
       "  'updated_at': datetime.datetime(2024, 12, 11, 0, 9, 29, 897069),\n",
       "  'deleted_at': None,\n",
       "  'userid': None},\n",
       " {'id': 'fbbc4fd8-5fd2-3e15-a27c-a8e84ccb8d4f',\n",
       "  'description': 'some test function',\n",
       "  'name': 'test_function',\n",
       "  'key': 'test_function',\n",
       "  'spec': {'name': 'test_function',\n",
       "   'description': 'some test function',\n",
       "   'parameters': {'properties': {'arg': {'description': 'description',\n",
       "      'title': 'Arg',\n",
       "      'type': 'string'}},\n",
       "    'type': 'object'}},\n",
       "  'group_id': None,\n",
       "  'created_at': datetime.datetime(2024, 12, 11, 0, 16, 14, 699477),\n",
       "  'updated_at': datetime.datetime(2024, 12, 11, 0, 18, 19, 592323),\n",
       "  'deleted_at': None,\n",
       "  'userid': None}]"
      ]
     },
     "execution_count": 28,
     "metadata": {},
     "output_type": "execute_result"
    }
   ],
   "source": [
    "pg.execute(\"SELECT * FROM FunctionModel\")"
   ]
  },
  {
   "cell_type": "code",
   "execution_count": 25,
   "id": "5460915b",
   "metadata": {},
   "outputs": [
    {
     "data": {
      "text/plain": [
       "FunctionModel(id=UUID('fbbc4fd8-5fd2-3e15-a27c-a8e84ccb8d4f'), description='some test function', name='test_function', key='test_function', spec={'name': 'test_function', 'description': 'some test function', 'parameters': {'properties': {'arg': {'description': 'description', 'title': 'Arg', 'type': 'string'}}, 'type': 'object'}}, group_id=None)"
      ]
     },
     "execution_count": 25,
     "metadata": {},
     "output_type": "execute_result"
    }
   ],
   "source": [
    "import uuid\n",
    "\n",
    "def test_function(arg:str):\n",
    "    \"\"\"some test function\n",
    "    Args:\n",
    "        arg: description\n",
    "    \"\"\"\n",
    "    return arg\n",
    "test_function.__name__\n",
    "fn = FunctionModel.from_function(test_function)\n",
    "fn\n",
    "#pg.update_records(fns)"
   ]
  },
  {
   "cell_type": "code",
   "execution_count": 26,
   "id": "403885d0",
   "metadata": {},
   "outputs": [
    {
     "data": {
      "text/plain": [
       "[{'id': 'fbbc4fd8-5fd2-3e15-a27c-a8e84ccb8d4f',\n",
       "  'description': 'some test function',\n",
       "  'name': 'test_function',\n",
       "  'key': 'test_function',\n",
       "  'spec': {'name': 'test_function',\n",
       "   'description': 'some test function',\n",
       "   'parameters': {'properties': {'arg': {'description': 'description',\n",
       "      'title': 'Arg',\n",
       "      'type': 'string'}},\n",
       "    'type': 'object'}},\n",
       "  'group_id': None,\n",
       "  'created_at': datetime.datetime(2024, 12, 11, 0, 16, 14, 699477),\n",
       "  'updated_at': datetime.datetime(2024, 12, 11, 0, 18, 19, 592323),\n",
       "  'deleted_at': None,\n",
       "  'userid': None}]"
      ]
     },
     "execution_count": 26,
     "metadata": {},
     "output_type": "execute_result"
    }
   ],
   "source": [
    "pg.repository(FunctionModel).update_records(fn)"
   ]
  },
  {
   "cell_type": "code",
   "execution_count": 29,
   "id": "c7dfe592",
   "metadata": {},
   "outputs": [],
   "source": [
    "pg.repository(FunctionModel).load_model_from_key('test_function')"
   ]
  },
  {
   "cell_type": "code",
   "execution_count": null,
   "id": "3d9cc82a",
   "metadata": {},
   "outputs": [],
   "source": [
    "op_uid = None\n",
    "model = pyaida.pg.repository(FunctionModel).select(op_uid) \n",
    "print(model.Config.functions)\n",
    "Markdown(model._get_system_prompt_markdown())"
   ]
  },
  {
   "cell_type": "code",
   "execution_count": 14,
   "id": "4668d123",
   "metadata": {},
   "outputs": [
    {
     "data": {
      "text/plain": [
       "UUID('4c348268-b750-11ef-8f5a-7606330c235f')"
      ]
     },
     "execution_count": 14,
     "metadata": {},
     "output_type": "execute_result"
    }
   ],
   "source": [
    "uuid.uuid1()"
   ]
  },
  {
   "cell_type": "code",
   "execution_count": null,
   "id": "e42c3926",
   "metadata": {},
   "outputs": [],
   "source": []
  }
 ],
 "metadata": {
  "kernelspec": {
   "display_name": "Python 3 (ipykernel)",
   "language": "python",
   "name": "python3"
  },
  "language_info": {
   "codemirror_mode": {
    "name": "ipython",
    "version": 3
   },
   "file_extension": ".py",
   "mimetype": "text/x-python",
   "name": "python",
   "nbconvert_exporter": "python",
   "pygments_lexer": "ipython3",
   "version": "3.10.10"
  }
 },
 "nbformat": 4,
 "nbformat_minor": 5
}
